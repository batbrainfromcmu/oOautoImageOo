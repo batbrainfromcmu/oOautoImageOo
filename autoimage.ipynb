{
 "cells": [
  {
   "cell_type": "code",
   "execution_count": 95,
   "metadata": {},
   "outputs": [
    {
     "name": "stdout",
     "output_type": "stream",
     "text": [
      "done\n"
     ]
    }
   ],
   "source": [
    "import io\n",
    "import os\n",
    "import glob\n",
    "import numpy as np\n",
    "import scipy.ndimage as ndi\n",
    "import matplotlib.pyplot as plt\n",
    "import re\n",
    "import random\n",
    "import pandas as pd\n",
    "\n",
    "from skimage import io\n",
    "from skimage import color\n",
    "from skimage import filters\n",
    "from skimage import measure\n",
    "from skimage import exposure\n",
    "from skimage import segmentation\n",
    "from sklearn import mixture\n",
    "import pickle \n",
    "import h5py \n",
    "\n",
    "%matplotlib inline\n",
    "print(\"done\")"
   ]
  },
  {
   "cell_type": "code",
   "execution_count": 96,
   "metadata": {},
   "outputs": [],
   "source": [
    "path = '/Users/annasmith/imagegroup/oOautoImageOo/mnist_test_10.csv'"
   ]
  },
  {
   "cell_type": "code",
   "execution_count": 97,
   "metadata": {},
   "outputs": [],
   "source": [
    "# df_mnist = pd.read_csv(path)\n",
    "\n",
    "# df_mnist.head()"
   ]
  },
  {
   "cell_type": "code",
   "execution_count": 98,
   "metadata": {},
   "outputs": [],
   "source": [
    "# image = io.imread(path, as_grey=True)"
   ]
  },
  {
   "cell_type": "code",
   "execution_count": 99,
   "metadata": {},
   "outputs": [],
   "source": [
    "f = open(\"mnist_test_10.csv\", 'r')\n",
    "a = f.readlines()\n",
    "f.close()"
   ]
  },
  {
   "cell_type": "code",
   "execution_count": 104,
   "metadata": {},
   "outputs": [
    {
     "data": {
      "image/png": "[encoded data removed]",
      "text/plain": [
       "<matplotlib.figure.Figure at 0x1c1dca8590>"
      ]
     },
     "metadata": {},
     "output_type": "display_data"
    }
   ],
   "source": [
    "f = plt.figure(figsize=(15,15));\n",
    "\n",
    "count=1\n",
    "\n",
    "for line in a:\n",
    "#     print(line)\n",
    "    linebits = line.split(',')\n",
    "#     print(linebits)\n",
    "    imarray = np.asfarray(linebits[1:]).reshape((28,28))\n",
    "#     print(imarray)\n",
    "    plt.subplot(5,5,count)\n",
    "    plt.subplots_adjust(hspace=0.5)\n",
    "    count += 1\n",
    "    plt.title(\"Label is \" + linebits[0])\n",
    "    plt.imshow(imarray, cmap='Greys', interpolation='None')\n",
    "    pass"
   ]
  },
  {
   "cell_type": "code",
   "execution_count": 106,
   "metadata": {},
   "outputs": [],
   "source": [
    "# inspect.signature(subplot)"
   ]
  },
  {
   "cell_type": "code",
   "execution_count": 108,
   "metadata": {},
   "outputs": [
    {
     "data": {
      "text/plain": [
       "28"
      ]
     },
     "execution_count": 108,
     "metadata": {},
     "output_type": "execute_result"
    }
   ],
   "source": []
  },
  {
   "cell_type": "code",
   "execution_count": null,
   "metadata": {},
   "outputs": [],
   "source": []
  }
 ],
 "metadata": {
  "kernelspec": {
   "display_name": "Python 2",
   "language": "python",
   "name": "python2"
  },
  "language_info": {
   "codemirror_mode": {
    "name": "ipython",
    "version": 2
   },
   "file_extension": ".py",
   "mimetype": "text/x-python",
   "name": "python",
   "nbconvert_exporter": "python",
   "pygments_lexer": "ipython2",
   "version": "2.7.14"
  }
 },
 "nbformat": 4,
 "nbformat_minor": 2
}
